{
 "cells": [
  {
   "cell_type": "markdown",
   "id": "2dd5b7d8",
   "metadata": {},
   "source": [
    "Data Science Tools and Ecosysytem"
   ]
  },
  {
   "cell_type": "markdown",
   "id": "e7387ff7",
   "metadata": {},
   "source": [
    "In this notebook, Data Science Tools and Ecosystems are Summerized."
   ]
  },
  {
   "cell_type": "markdown",
   "id": "e166b973",
   "metadata": {},
   "source": [
    "Some of the popular language that data scientists used are:\n",
    "\n",
    "**Objectives:**\n",
    "\n",
    " 1)Python\n",
    "\n",
    " 2)SQL\n",
    "\n",
    " 3)R\n",
    "\n",
    " 4)Java\n",
    " \n",
    " 5)Scala"
   ]
  },
  {
   "cell_type": "markdown",
   "id": "6d87040c",
   "metadata": {},
   "source": [
    "Someof the commonly used libraries used by data scientists include:\n",
    "\n",
    "1) Pandas\n",
    "2) Numpy\n",
    "3) Matplotlib\n",
    "4) Scikit-learn\n"
   ]
  },
  {
   "cell_type": "markdown",
   "id": "871d0807",
   "metadata": {},
   "source": [
    "| Data Science Tools |\n",
    "|--------------------|\n",
    "|      Python        |\n",
    "|      SQL           |\n",
    "|       R            |\n",
    "|       Tableau      |"
   ]
  },
  {
   "cell_type": "markdown",
   "id": "9f4c86e0",
   "metadata": {},
   "source": [
    "### Below are a few examples of evaluating arithmetic expression in python"
   ]
  },
  {
   "cell_type": "code",
   "execution_count": 1,
   "id": "d44a3095",
   "metadata": {},
   "outputs": [
    {
     "data": {
      "text/plain": [
       "17"
      ]
     },
     "execution_count": 1,
     "metadata": {},
     "output_type": "execute_result"
    }
   ],
   "source": [
    "(3*4)+5"
   ]
  },
  {
   "cell_type": "code",
   "execution_count": 4,
   "id": "c15b2e14",
   "metadata": {},
   "outputs": [
    {
     "name": "stdout",
     "output_type": "stream",
     "text": [
      "3.3333333333333335\n"
     ]
    }
   ],
   "source": [
    "\n",
    "# Minutes to Hour\n",
    "\n",
    "minutes=int(input(\"Enter minutes:\"))\n",
    "hours=(minutes/60)\n",
    "print(hours)"
   ]
  },
  {
   "cell_type": "markdown",
   "id": "fe463ace",
   "metadata": {},
   "source": [
    "## Author : Amaldev K M"
   ]
  }
 ],
 "metadata": {
  "kernelspec": {
   "display_name": "Python 3",
   "language": "python",
   "name": "python3"
  },
  "language_info": {
   "codemirror_mode": {
    "name": "ipython",
    "version": 3
   },
   "file_extension": ".py",
   "mimetype": "text/x-python",
   "name": "python",
   "nbconvert_exporter": "python",
   "pygments_lexer": "ipython3",
   "version": "3.11.9"
  }
 },
 "nbformat": 4,
 "nbformat_minor": 5
}
